{
 "cells": [
  {
   "cell_type": "code",
   "execution_count": 71,
   "id": "fabulous-disney",
   "metadata": {},
   "outputs": [],
   "source": [
    "import platform\n",
    "import subprocess\n",
    "import os\n",
    "import nmap"
   ]
  },
  {
   "cell_type": "code",
   "execution_count": 72,
   "id": "million-guinea",
   "metadata": {},
   "outputs": [],
   "source": [
    "target = '10.10.92.42'"
   ]
  },
  {
   "cell_type": "code",
   "execution_count": 73,
   "id": "optional-template",
   "metadata": {},
   "outputs": [
    {
     "name": "stdout",
     "output_type": "stream",
     "text": [
      "PING 10.10.92.42 (10.10.92.42) 56(84) bytes of data.\n",
      "64 bytes from 10.10.92.42: icmp_seq=1 ttl=61 time=116 ms\n",
      "64 bytes from 10.10.92.42: icmp_seq=2 ttl=61 time=113 ms\n",
      "64 bytes from 10.10.92.42: icmp_seq=3 ttl=61 time=110 ms\n",
      "64 bytes from 10.10.92.42: icmp_seq=4 ttl=61 time=113 ms\n",
      "\n",
      "--- 10.10.92.42 ping statistics ---\n",
      "4 packets transmitted, 4 received, 0% packet loss, time 3009ms\n",
      "rtt min/avg/max/mdev = 110.414/112.962/116.132/2.045 ms\n"
     ]
    },
    {
     "data": {
      "text/plain": [
       "True"
      ]
     },
     "execution_count": 73,
     "metadata": {},
     "output_type": "execute_result"
    }
   ],
   "source": [
    "#ping host (Linux or Windows) - make a loop for a range of IPs - return a pretty response for success and failures\n",
    "\n",
    "def ping(target):\n",
    "\n",
    "    param = '-n' if platform.system().lower()=='windows' else '-c'\n",
    "\n",
    "    command = ['ping', '-c', '4', target]\n",
    "\n",
    "    return subprocess.call(command) == 0\n",
    "\n",
    "ping(target)\n"
   ]
  },
  {
   "cell_type": "code",
   "execution_count": 74,
   "id": "stuffed-subscriber",
   "metadata": {},
   "outputs": [
    {
     "name": "stdout",
     "output_type": "stream",
     "text": [
      "nmap -oX - -sV -sC -p 22-443 10.10.92.42\n",
      "----------------------------------------------------\n",
      "Host : 10.10.92.42 ()\n",
      "State : up\n",
      "----------\n",
      "Protocol : tcp\n",
      "port : 22\tstate : open\n",
      "port : 80\tstate : open\n",
      "host;hostname;hostname_type;protocol;port;name;state;product;extrainfo;reason;version;conf;cpe\r\n",
      "10.10.92.42;;;tcp;22;ssh;open;OpenSSH;\"Ubuntu Linux; protocol 2.0\";syn-ack;7.2p2 Ubuntu 4ubuntu2.6;10;cpe:/o:linux:linux_kernel\r\n",
      "10.10.92.42;;;tcp;80;http;open;Apache httpd;(Ubuntu);syn-ack;2.4.18;10;cpe:/a:apache:http_server:2.4.18\r\n",
      "\n"
     ]
    }
   ],
   "source": [
    "#nmap\n",
    "\n",
    "nm = nmap.PortScanner()\n",
    "nm.scan(target, arguments= '-sV -sC -p 22-443')\n",
    "nm.all_hosts()\n",
    "[target]\n",
    "print(nm.command_line())\n",
    "\n",
    "for host in nm.all_hosts():\n",
    "    print('----------------------------------------------------')\n",
    "    print('Host : {} ({})'.format(host, nm[host].hostname()))\n",
    "    print('State : {}'.format(nm[host].state()))\n",
    "    for proto in nm[host].all_protocols():\n",
    "        print('----------')\n",
    "        print('Protocol : {}'.format(proto))\n",
    " \n",
    "        lport = nm[host][proto].keys()\n",
    "        for port in lport:\n",
    "            print ('port : {}\\tstate : {}'.format(port, nm[host][proto][port]['state']))\n",
    "            \n",
    "print(nm.csv())"
   ]
  },
  {
   "cell_type": "code",
   "execution_count": 70,
   "id": "stuck-equity",
   "metadata": {},
   "outputs": [
    {
     "ename": "SyntaxError",
     "evalue": "invalid syntax (135207762.py, line 3)",
     "output_type": "error",
     "traceback": [
      "\u001b[0;36m  File \u001b[0;32m\"/tmp/ipykernel_103797/135207762.py\"\u001b[0;36m, line \u001b[0;32m3\u001b[0m\n\u001b[0;31m    dirbpy -o https://raw.githubusercontent.com/danielmiessler/SecLists/master/Discovery/Web-Content/common.txt -u https://[target]:80\u001b[0m\n\u001b[0m              ^\u001b[0m\n\u001b[0;31mSyntaxError\u001b[0m\u001b[0;31m:\u001b[0m invalid syntax\n"
     ]
    }
   ],
   "source": [
    "#dirbpy"
   ]
  },
  {
   "cell_type": "code",
   "execution_count": null,
   "id": "occupational-trunk",
   "metadata": {},
   "outputs": [],
   "source": []
  }
 ],
 "metadata": {
  "kernelspec": {
   "display_name": "Python 3 (ipykernel)",
   "language": "python",
   "name": "python3"
  },
  "language_info": {
   "codemirror_mode": {
    "name": "ipython",
    "version": 3
   },
   "file_extension": ".py",
   "mimetype": "text/x-python",
   "name": "python",
   "nbconvert_exporter": "python",
   "pygments_lexer": "ipython3",
   "version": "3.9.2"
  }
 },
 "nbformat": 4,
 "nbformat_minor": 5
}
