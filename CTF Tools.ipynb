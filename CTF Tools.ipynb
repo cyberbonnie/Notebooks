{
 "cells": [
  {
   "cell_type": "code",
   "execution_count": 71,
   "source": [
    "import platform\r\n",
    "import subprocess\r\n",
    "import os\r\n",
    "import nmap"
   ],
   "outputs": [],
   "metadata": {}
  },
  {
   "cell_type": "code",
   "execution_count": 72,
   "source": [
    "target = '10.10.92.42'"
   ],
   "outputs": [],
   "metadata": {}
  },
  {
   "cell_type": "code",
   "execution_count": 73,
   "source": [
    "#ping host (Linux or Windows) - make a loop for a range of IPs - return a pretty response for success and failures\r\n",
    "\r\n",
    "def ping(target):\r\n",
    "\r\n",
    "    param = '-n' if platform.system().lower()=='windows' else '-c'\r\n",
    "\r\n",
    "    command = ['ping', '-c', '4', target]\r\n",
    "\r\n",
    "    return subprocess.call(command) == 0\r\n",
    "\r\n",
    "ping(target)\r\n"
   ],
   "outputs": [
    {
     "output_type": "stream",
     "name": "stdout",
     "text": [
      "PING 10.10.92.42 (10.10.92.42) 56(84) bytes of data.\n",
      "64 bytes from 10.10.92.42: icmp_seq=1 ttl=61 time=116 ms\n",
      "64 bytes from 10.10.92.42: icmp_seq=2 ttl=61 time=113 ms\n",
      "64 bytes from 10.10.92.42: icmp_seq=3 ttl=61 time=110 ms\n",
      "64 bytes from 10.10.92.42: icmp_seq=4 ttl=61 time=113 ms\n",
      "\n",
      "--- 10.10.92.42 ping statistics ---\n",
      "4 packets transmitted, 4 received, 0% packet loss, time 3009ms\n",
      "rtt min/avg/max/mdev = 110.414/112.962/116.132/2.045 ms\n"
     ]
    },
    {
     "output_type": "execute_result",
     "data": {
      "text/plain": [
       "True"
      ]
     },
     "metadata": {},
     "execution_count": 73
    }
   ],
   "metadata": {}
  },
  {
   "cell_type": "code",
   "execution_count": 74,
   "source": [
    "#nmap\r\n",
    "\r\n",
    "nm = nmap.PortScanner()\r\n",
    "nm.scan(target, arguments= '-sV -sC -p 22-443')\r\n",
    "nm.all_hosts()\r\n",
    "[target]\r\n",
    "print(nm.command_line())\r\n",
    "\r\n",
    "for host in nm.all_hosts():\r\n",
    "    print('----------------------------------------------------')\r\n",
    "    print('Host : {} ({})'.format(host, nm[host].hostname()))\r\n",
    "    print('State : {}'.format(nm[host].state()))\r\n",
    "    for proto in nm[host].all_protocols():\r\n",
    "        print('----------')\r\n",
    "        print('Protocol : {}'.format(proto))\r\n",
    " \r\n",
    "        lport = nm[host][proto].keys()\r\n",
    "        for port in lport:\r\n",
    "            print ('port : {}\\tstate : {}'.format(port, nm[host][proto][port]['state']))\r\n",
    "            \r\n",
    "print(nm.csv())"
   ],
   "outputs": [
    {
     "output_type": "stream",
     "name": "stdout",
     "text": [
      "nmap -oX - -sV -sC -p 22-443 10.10.92.42\n",
      "----------------------------------------------------\n",
      "Host : 10.10.92.42 ()\n",
      "State : up\n",
      "----------\n",
      "Protocol : tcp\n",
      "port : 22\tstate : open\n",
      "port : 80\tstate : open\n",
      "host;hostname;hostname_type;protocol;port;name;state;product;extrainfo;reason;version;conf;cpe\r\n",
      "10.10.92.42;;;tcp;22;ssh;open;OpenSSH;\"Ubuntu Linux; protocol 2.0\";syn-ack;7.2p2 Ubuntu 4ubuntu2.6;10;cpe:/o:linux:linux_kernel\r\n",
      "10.10.92.42;;;tcp;80;http;open;Apache httpd;(Ubuntu);syn-ack;2.4.18;10;cpe:/a:apache:http_server:2.4.18\r\n",
      "\n"
     ]
    }
   ],
   "metadata": {}
  },
  {
   "cell_type": "code",
   "execution_count": 1,
   "source": [
    "#dirbpy"
   ],
   "outputs": [],
   "metadata": {}
  },
  {
   "cell_type": "code",
   "execution_count": null,
   "source": [],
   "outputs": [],
   "metadata": {}
  }
 ],
 "metadata": {
  "kernelspec": {
   "name": "python3",
   "display_name": "Python 3.8.8 64-bit ('base': conda)"
  },
  "language_info": {
   "codemirror_mode": {
    "name": "ipython",
    "version": 3
   },
   "file_extension": ".py",
   "mimetype": "text/x-python",
   "name": "python",
   "nbconvert_exporter": "python",
   "pygments_lexer": "ipython3",
   "version": "3.8.8"
  },
  "interpreter": {
   "hash": "1b9030d90f55bfcfb796b1ecacb269f6c8099ccaee1c25df7b7ef3e5d4837eac"
  }
 },
 "nbformat": 4,
 "nbformat_minor": 5
}