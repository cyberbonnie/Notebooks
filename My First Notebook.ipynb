{
 "cells": [
  {
   "cell_type": "code",
   "execution_count": 1,
   "id": "7e04112b",
   "metadata": {},
   "outputs": [],
   "source": [
    "%matplotlib inline\n",
    "import pandas as pd\n",
    "import matplotlib.pyplot as plt\n",
    "import seaborn as sns\n",
    "sns.set(style=\"darkgrid\")"
   ]
  },
  {
   "cell_type": "code",
   "execution_count": 2,
   "id": "80a8bfe5",
   "metadata": {},
   "outputs": [],
   "source": [
    "df = pd.read_csv('TestStats.csv')"
   ]
  },
  {
   "cell_type": "code",
   "execution_count": 3,
   "id": "4c90b813",
   "metadata": {},
   "outputs": [
    {
     "data": {
      "text/html": [
       "<div>\n",
       "<style scoped>\n",
       "    .dataframe tbody tr th:only-of-type {\n",
       "        vertical-align: middle;\n",
       "    }\n",
       "\n",
       "    .dataframe tbody tr th {\n",
       "        vertical-align: top;\n",
       "    }\n",
       "\n",
       "    .dataframe thead th {\n",
       "        text-align: right;\n",
       "    }\n",
       "</style>\n",
       "<table border=\"1\" class=\"dataframe\">\n",
       "  <thead>\n",
       "    <tr style=\"text-align: right;\">\n",
       "      <th></th>\n",
       "      <th>ID</th>\n",
       "      <th>Scrape Date</th>\n",
       "      <th>Published Date</th>\n",
       "      <th>Title</th>\n",
       "      <th>BDD</th>\n",
       "    </tr>\n",
       "  </thead>\n",
       "  <tbody>\n",
       "    <tr>\n",
       "      <th>0</th>\n",
       "      <td>1</td>\n",
       "      <td>7/30/2021</td>\n",
       "      <td>8/1/2021</td>\n",
       "      <td>Apple Stuff</td>\n",
       "      <td>2</td>\n",
       "    </tr>\n",
       "    <tr>\n",
       "      <th>1</th>\n",
       "      <td>2</td>\n",
       "      <td>7/30/2021</td>\n",
       "      <td>8/1/2021</td>\n",
       "      <td>Apple Stuff</td>\n",
       "      <td>2</td>\n",
       "    </tr>\n",
       "    <tr>\n",
       "      <th>2</th>\n",
       "      <td>3</td>\n",
       "      <td>7/30/2021</td>\n",
       "      <td>8/1/2021</td>\n",
       "      <td>Apple Stuff</td>\n",
       "      <td>2</td>\n",
       "    </tr>\n",
       "    <tr>\n",
       "      <th>3</th>\n",
       "      <td>4</td>\n",
       "      <td>7/30/2021</td>\n",
       "      <td>8/1/2021</td>\n",
       "      <td>Apple Stuff</td>\n",
       "      <td>2</td>\n",
       "    </tr>\n",
       "    <tr>\n",
       "      <th>4</th>\n",
       "      <td>5</td>\n",
       "      <td>7/30/2021</td>\n",
       "      <td>8/1/2021</td>\n",
       "      <td>Apple Stuff</td>\n",
       "      <td>2</td>\n",
       "    </tr>\n",
       "  </tbody>\n",
       "</table>\n",
       "</div>"
      ],
      "text/plain": [
       "   ID Scrape Date Published Date        Title  BDD\n",
       "0   1   7/30/2021       8/1/2021  Apple Stuff    2\n",
       "1   2   7/30/2021       8/1/2021  Apple Stuff    2\n",
       "2   3   7/30/2021       8/1/2021  Apple Stuff    2\n",
       "3   4   7/30/2021       8/1/2021  Apple Stuff    2\n",
       "4   5   7/30/2021       8/1/2021  Apple Stuff    2"
      ]
     },
     "execution_count": 3,
     "metadata": {},
     "output_type": "execute_result"
    }
   ],
   "source": [
    "df.head()"
   ]
  },
  {
   "cell_type": "code",
   "execution_count": 4,
   "id": "d6d94e97",
   "metadata": {},
   "outputs": [
    {
     "data": {
      "text/html": [
       "<div>\n",
       "<style scoped>\n",
       "    .dataframe tbody tr th:only-of-type {\n",
       "        vertical-align: middle;\n",
       "    }\n",
       "\n",
       "    .dataframe tbody tr th {\n",
       "        vertical-align: top;\n",
       "    }\n",
       "\n",
       "    .dataframe thead th {\n",
       "        text-align: right;\n",
       "    }\n",
       "</style>\n",
       "<table border=\"1\" class=\"dataframe\">\n",
       "  <thead>\n",
       "    <tr style=\"text-align: right;\">\n",
       "      <th></th>\n",
       "      <th>ID</th>\n",
       "      <th>Scrape Date</th>\n",
       "      <th>Published Date</th>\n",
       "      <th>Title</th>\n",
       "      <th>BDD</th>\n",
       "    </tr>\n",
       "  </thead>\n",
       "  <tbody>\n",
       "    <tr>\n",
       "      <th>15</th>\n",
       "      <td>16</td>\n",
       "      <td>8/7/2021</td>\n",
       "      <td>8/8/2021</td>\n",
       "      <td>Mozilla Stuff</td>\n",
       "      <td>1</td>\n",
       "    </tr>\n",
       "    <tr>\n",
       "      <th>16</th>\n",
       "      <td>17</td>\n",
       "      <td>8/7/2021</td>\n",
       "      <td>8/8/2021</td>\n",
       "      <td>Mozilla Stuff</td>\n",
       "      <td>1</td>\n",
       "    </tr>\n",
       "    <tr>\n",
       "      <th>17</th>\n",
       "      <td>18</td>\n",
       "      <td>8/7/2021</td>\n",
       "      <td>8/8/2021</td>\n",
       "      <td>PLC</td>\n",
       "      <td>1</td>\n",
       "    </tr>\n",
       "    <tr>\n",
       "      <th>18</th>\n",
       "      <td>19</td>\n",
       "      <td>8/7/2021</td>\n",
       "      <td>8/8/2021</td>\n",
       "      <td>PLC</td>\n",
       "      <td>1</td>\n",
       "    </tr>\n",
       "    <tr>\n",
       "      <th>19</th>\n",
       "      <td>20</td>\n",
       "      <td>8/7/2021</td>\n",
       "      <td>8/8/2021</td>\n",
       "      <td>PLC</td>\n",
       "      <td>1</td>\n",
       "    </tr>\n",
       "  </tbody>\n",
       "</table>\n",
       "</div>"
      ],
      "text/plain": [
       "    ID Scrape Date Published Date          Title  BDD\n",
       "15  16    8/7/2021       8/8/2021  Mozilla Stuff    1\n",
       "16  17    8/7/2021       8/8/2021  Mozilla Stuff    1\n",
       "17  18    8/7/2021       8/8/2021            PLC    1\n",
       "18  19    8/7/2021       8/8/2021            PLC    1\n",
       "19  20    8/7/2021       8/8/2021            PLC    1"
      ]
     },
     "execution_count": 4,
     "metadata": {},
     "output_type": "execute_result"
    }
   ],
   "source": [
    "df.tail()"
   ]
  },
  {
   "cell_type": "code",
   "execution_count": 5,
   "id": "b21f343f",
   "metadata": {},
   "outputs": [],
   "source": [
    "df.columns = ['id', 'scrape', 'pub', 'title', 'bdd']"
   ]
  },
  {
   "cell_type": "code",
   "execution_count": 6,
   "id": "8e97b918",
   "metadata": {},
   "outputs": [
    {
     "data": {
      "text/plain": [
       "20"
      ]
     },
     "execution_count": 6,
     "metadata": {},
     "output_type": "execute_result"
    }
   ],
   "source": [
    "len(df) #number of rows of data set"
   ]
  },
  {
   "cell_type": "code",
   "execution_count": 7,
   "id": "159ed265",
   "metadata": {},
   "outputs": [
    {
     "data": {
      "text/plain": [
       "id         int64\n",
       "scrape    object\n",
       "pub       object\n",
       "title     object\n",
       "bdd        int64\n",
       "dtype: object"
      ]
     },
     "execution_count": 7,
     "metadata": {},
     "output_type": "execute_result"
    }
   ],
   "source": [
    "df.dtypes #check is to see if the data types (or dtypes) have been correctly interpreted."
   ]
  },
  {
   "cell_type": "code",
   "execution_count": 8,
   "id": "06eef05e",
   "metadata": {},
   "outputs": [],
   "source": [
    "group_by_pub = df.loc[:, ['pub', 'id', 'bdd']].groupby('pub')\n",
    "avgs = group_by_pub.mean()\n",
    "x = avgs.index\n",
    "y1 = avgs.bdd\n",
    "def plot(x, y, ax, title, y_label):\n",
    "    ax.set_title(title)\n",
    "    ax.set_ylabel(y_label)\n",
    "    ax.plot(x, y)\n",
    "    ax.margins(x=0, y=0)"
   ]
  },
  {
   "cell_type": "code",
   "execution_count": 9,
   "id": "be83b89d",
   "metadata": {},
   "outputs": [
    {
     "data": {
      "image/png": "[encoded data removed]",
      "text/plain": [
       "<Figure size 432x288 with 1 Axes>"
      ]
     },
     "metadata": {},
     "output_type": "display_data"
    }
   ],
   "source": [
    "fig, ax = plt.subplots()\n",
    "plot(x, y1, ax, 'Vulns Published by BDD', 'Business Day Delta')"
   ]
  },
  {
   "cell_type": "code",
   "execution_count": null,
   "id": "edf604b8",
   "metadata": {},
   "outputs": [],
   "source": []
  }
 ],
 "metadata": {
  "kernelspec": {
   "display_name": "Python 3",
   "language": "python",
   "name": "python3"
  },
  "language_info": {
   "codemirror_mode": {
    "name": "ipython",
    "version": 3
   },
   "file_extension": ".py",
   "mimetype": "text/x-python",
   "name": "python",
   "nbconvert_exporter": "python",
   "pygments_lexer": "ipython3",
   "version": "3.8.8"
  }
 },
 "nbformat": 4,
 "nbformat_minor": 5
}
