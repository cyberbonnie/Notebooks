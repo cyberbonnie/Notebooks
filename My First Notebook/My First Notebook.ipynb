{
 "cells": [
  {
   "cell_type": "code",
   "execution_count": 1,
   "source": [
    "%matplotlib inline\r\n",
    "import pandas as pd\r\n",
    "import matplotlib.pyplot as plt\r\n",
    "import seaborn as sns\r\n",
    "sns.set(style=\"darkgrid\")"
   ],
   "outputs": [],
   "metadata": {}
  },
  {
   "cell_type": "code",
   "execution_count": 2,
   "source": [
    "df = pd.read_csv('TestStats.csv')"
   ],
   "outputs": [],
   "metadata": {}
  },
  {
   "cell_type": "code",
   "execution_count": 3,
   "source": [
    "df.head()"
   ],
   "outputs": [
    {
     "output_type": "execute_result",
     "data": {
      "text/html": [
       "<div>\n",
       "<style scoped>\n",
       "    .dataframe tbody tr th:only-of-type {\n",
       "        vertical-align: middle;\n",
       "    }\n",
       "\n",
       "    .dataframe tbody tr th {\n",
       "        vertical-align: top;\n",
       "    }\n",
       "\n",
       "    .dataframe thead th {\n",
       "        text-align: right;\n",
       "    }\n",
       "</style>\n",
       "<table border=\"1\" class=\"dataframe\">\n",
       "  <thead>\n",
       "    <tr style=\"text-align: right;\">\n",
       "      <th></th>\n",
       "      <th>ID</th>\n",
       "      <th>Scrape Date</th>\n",
       "      <th>Published Date</th>\n",
       "      <th>Title</th>\n",
       "      <th>Day Diff</th>\n",
       "    </tr>\n",
       "  </thead>\n",
       "  <tbody>\n",
       "    <tr>\n",
       "      <th>0</th>\n",
       "      <td>1</td>\n",
       "      <td>7/30/2021</td>\n",
       "      <td>8/1/2021</td>\n",
       "      <td>Vuln Title 1</td>\n",
       "      <td>2</td>\n",
       "    </tr>\n",
       "    <tr>\n",
       "      <th>1</th>\n",
       "      <td>2</td>\n",
       "      <td>7/30/2021</td>\n",
       "      <td>8/1/2021</td>\n",
       "      <td>Vuln Title 1</td>\n",
       "      <td>2</td>\n",
       "    </tr>\n",
       "    <tr>\n",
       "      <th>2</th>\n",
       "      <td>3</td>\n",
       "      <td>7/30/2021</td>\n",
       "      <td>8/1/2021</td>\n",
       "      <td>Vuln Title 1</td>\n",
       "      <td>2</td>\n",
       "    </tr>\n",
       "    <tr>\n",
       "      <th>3</th>\n",
       "      <td>4</td>\n",
       "      <td>7/30/2021</td>\n",
       "      <td>8/1/2021</td>\n",
       "      <td>Vuln Title 1</td>\n",
       "      <td>2</td>\n",
       "    </tr>\n",
       "    <tr>\n",
       "      <th>4</th>\n",
       "      <td>5</td>\n",
       "      <td>7/30/2021</td>\n",
       "      <td>8/1/2021</td>\n",
       "      <td>Vuln Title 1</td>\n",
       "      <td>2</td>\n",
       "    </tr>\n",
       "  </tbody>\n",
       "</table>\n",
       "</div>"
      ],
      "text/plain": [
       "   ID Scrape Date Published Date         Title  Day Diff\n",
       "0   1   7/30/2021       8/1/2021  Vuln Title 1         2\n",
       "1   2   7/30/2021       8/1/2021  Vuln Title 1         2\n",
       "2   3   7/30/2021       8/1/2021  Vuln Title 1         2\n",
       "3   4   7/30/2021       8/1/2021  Vuln Title 1         2\n",
       "4   5   7/30/2021       8/1/2021  Vuln Title 1         2"
      ]
     },
     "metadata": {},
     "execution_count": 3
    }
   ],
   "metadata": {}
  },
  {
   "cell_type": "code",
   "execution_count": 4,
   "source": [
    "df.tail()"
   ],
   "outputs": [
    {
     "output_type": "execute_result",
     "data": {
      "text/html": [
       "<div>\n",
       "<style scoped>\n",
       "    .dataframe tbody tr th:only-of-type {\n",
       "        vertical-align: middle;\n",
       "    }\n",
       "\n",
       "    .dataframe tbody tr th {\n",
       "        vertical-align: top;\n",
       "    }\n",
       "\n",
       "    .dataframe thead th {\n",
       "        text-align: right;\n",
       "    }\n",
       "</style>\n",
       "<table border=\"1\" class=\"dataframe\">\n",
       "  <thead>\n",
       "    <tr style=\"text-align: right;\">\n",
       "      <th></th>\n",
       "      <th>ID</th>\n",
       "      <th>Scrape Date</th>\n",
       "      <th>Published Date</th>\n",
       "      <th>Title</th>\n",
       "      <th>Day Diff</th>\n",
       "    </tr>\n",
       "  </thead>\n",
       "  <tbody>\n",
       "    <tr>\n",
       "      <th>15</th>\n",
       "      <td>16</td>\n",
       "      <td>8/7/2021</td>\n",
       "      <td>8/8/2021</td>\n",
       "      <td>Vuln Title 2</td>\n",
       "      <td>1</td>\n",
       "    </tr>\n",
       "    <tr>\n",
       "      <th>16</th>\n",
       "      <td>17</td>\n",
       "      <td>8/7/2021</td>\n",
       "      <td>8/8/2021</td>\n",
       "      <td>Vuln Title 2</td>\n",
       "      <td>1</td>\n",
       "    </tr>\n",
       "    <tr>\n",
       "      <th>17</th>\n",
       "      <td>18</td>\n",
       "      <td>8/7/2021</td>\n",
       "      <td>8/8/2021</td>\n",
       "      <td>Vuln Title 3</td>\n",
       "      <td>1</td>\n",
       "    </tr>\n",
       "    <tr>\n",
       "      <th>18</th>\n",
       "      <td>19</td>\n",
       "      <td>8/7/2021</td>\n",
       "      <td>8/8/2021</td>\n",
       "      <td>Vuln Title 3</td>\n",
       "      <td>1</td>\n",
       "    </tr>\n",
       "    <tr>\n",
       "      <th>19</th>\n",
       "      <td>20</td>\n",
       "      <td>8/7/2021</td>\n",
       "      <td>8/8/2021</td>\n",
       "      <td>Vuln Title 3</td>\n",
       "      <td>1</td>\n",
       "    </tr>\n",
       "  </tbody>\n",
       "</table>\n",
       "</div>"
      ],
      "text/plain": [
       "    ID Scrape Date Published Date         Title  Day Diff\n",
       "15  16    8/7/2021       8/8/2021  Vuln Title 2         1\n",
       "16  17    8/7/2021       8/8/2021  Vuln Title 2         1\n",
       "17  18    8/7/2021       8/8/2021  Vuln Title 3         1\n",
       "18  19    8/7/2021       8/8/2021  Vuln Title 3         1\n",
       "19  20    8/7/2021       8/8/2021  Vuln Title 3         1"
      ]
     },
     "metadata": {},
     "execution_count": 4
    }
   ],
   "metadata": {}
  },
  {
   "cell_type": "code",
   "execution_count": 5,
   "source": [
    "df.columns = ['id', 'scrape', 'pub', 'title', 'bdd']"
   ],
   "outputs": [],
   "metadata": {}
  },
  {
   "cell_type": "code",
   "execution_count": 6,
   "source": [
    "len(df) #number of rows of data set"
   ],
   "outputs": [
    {
     "output_type": "execute_result",
     "data": {
      "text/plain": [
       "20"
      ]
     },
     "metadata": {},
     "execution_count": 6
    }
   ],
   "metadata": {}
  },
  {
   "cell_type": "code",
   "execution_count": 7,
   "source": [
    "df.dtypes #check is to see if the data types (or dtypes) have been correctly interpreted."
   ],
   "outputs": [
    {
     "output_type": "execute_result",
     "data": {
      "text/plain": [
       "id         int64\n",
       "scrape    object\n",
       "pub       object\n",
       "title     object\n",
       "bdd        int64\n",
       "dtype: object"
      ]
     },
     "metadata": {},
     "execution_count": 7
    }
   ],
   "metadata": {}
  },
  {
   "cell_type": "code",
   "execution_count": 8,
   "source": [
    "n = df.nunique(axis=0)\r\n",
    "print(\"No.of.unique values in each column :\\n\",\r\n",
    "      n)"
   ],
   "outputs": [
    {
     "output_type": "stream",
     "name": "stdout",
     "text": [
      "No.of.unique values in each column :\n",
      " id        20\n",
      "scrape     4\n",
      "pub        5\n",
      "title      3\n",
      "bdd        4\n",
      "dtype: int64\n"
     ]
    }
   ],
   "metadata": {}
  },
  {
   "cell_type": "code",
   "execution_count": 9,
   "source": [
    "df = df.groupby('pub').nunique() #group other columns by published date\r\n",
    "print (df)"
   ],
   "outputs": [
    {
     "output_type": "stream",
     "name": "stdout",
     "text": [
      "          id  scrape  title  bdd\n",
      "pub                             \n",
      "8/1/2021   5       1      1    1\n",
      "8/4/2021   1       1      1    1\n",
      "8/6/2021   4       2      2    2\n",
      "8/7/2021   2       2      1    2\n",
      "8/8/2021   8       1      2    1\n"
     ]
    }
   ],
   "metadata": {}
  },
  {
   "cell_type": "code",
   "execution_count": 10,
   "source": [
    "group_by_pub = df.loc[:, ['id']].groupby('pub')\n",
    "avgs = group_by_pub.mean()\n",
    "x = avgs.index\n",
    "y1 = avgs.id\n",
    "def plot(x, y, ax, title, y_label):\n",
    "    ax.set_title(title)\n",
    "    ax.set_ylabel(y_label)\n",
    "    ax.plot(x, y)\n",
    "    ax.margins(x=0, y=0)"
   ],
   "outputs": [],
   "metadata": {}
  },
  {
   "cell_type": "code",
   "execution_count": 11,
   "source": [
    "fig, ax = plt.subplots()\n",
    "plot(x, y1, ax, 'Vulns By Published Date', '# of Vulns')"
   ],
   "outputs": [
    {
     "output_type": "display_data",
     "data": {
      "image/png": "[encoded data removed]",
      "text/plain": [
       "<Figure size 432x288 with 1 Axes>"
      ]
     },
     "metadata": {}
    }
   ],
   "metadata": {}
  }
 ],
 "metadata": {
  "kernelspec": {
   "name": "python3",
   "display_name": "Python 3.8.8 64-bit ('base': conda)"
  },
  "language_info": {
   "codemirror_mode": {
    "name": "ipython",
    "version": 3
   },
   "file_extension": ".py",
   "mimetype": "text/x-python",
   "name": "python",
   "nbconvert_exporter": "python",
   "pygments_lexer": "ipython3",
   "version": "3.8.8"
  },
  "interpreter": {
   "hash": "1b9030d90f55bfcfb796b1ecacb269f6c8099ccaee1c25df7b7ef3e5d4837eac"
  }
 },
 "nbformat": 4,
 "nbformat_minor": 5
}